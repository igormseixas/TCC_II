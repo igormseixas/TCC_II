{
 "cells": [
  {
   "cell_type": "code",
   "execution_count": 1,
   "metadata": {},
   "outputs": [],
   "source": [
    "import pandas as pd\n",
    "from sklearn import svm\n",
    "from sklearn.model_selection import GridSearchCV\n",
    "import os\n",
    "import matplotlib.pyplot as plt\n",
    "from skimage.transform import resize\n",
    "from skimage.io import imread\n",
    "import numpy as np\n",
    "from sklearn.model_selection import train_test_split\n",
    "from sklearn.metrics import classification_report,accuracy_score,confusion_matrix\n",
    "import pickle\n",
    "import mahotas as mt"
   ]
  },
  {
   "cell_type": "code",
   "execution_count": 2,
   "metadata": {},
   "outputs": [
    {
     "name": "stdout",
     "output_type": "stream",
     "text": [
      "Type y to give categories or type n to go with classification of ['4-4a', '5-4b', '6-4c']\n"
     ]
    }
   ],
   "source": [
    "#Categories=['2','3','4-4a','5-4b','6-4c','7-5']\n",
    "Categories=['4-4a','5-4b','6-4c']\n",
    "print(\"Type y to give categories or type n to go with classification of\", Categories);\n",
    "\n",
    "#while(True):\n",
    "#  check=input()\n",
    "#  if(check=='n' or check=='y'):\n",
    "#    break\n",
    "#  print(\"Please give a valid input (y/n)\")\n",
    "#if(check=='y'):\n",
    "#  print(\"Enter How Many types of Images do you want to classify\")\n",
    "#  n=int(input())\n",
    "#  Categories=[]\n",
    "#  print(f'please enter {n} names')\n",
    "#  for i in range(n):\n",
    "#    name=input()\n",
    "#    Categories.append(name)\n",
    "#  print(f\"If not drive Please upload all the {n} category images in google collab with the same names as given in categories\")"
   ]
  },
  {
   "cell_type": "code",
   "execution_count": 3,
   "metadata": {},
   "outputs": [],
   "source": [
    "def extract_features(image):\n",
    "        # calculate haralick texture features for 4 types of adjacency\n",
    "        textures = mt.features.haralick(image)\n",
    "\n",
    "        # take the mean of it and return it\n",
    "        ht_mean = textures.mean(axis=0)\n",
    "        return ht_mean"
   ]
  },
  {
   "cell_type": "code",
   "execution_count": 4,
   "metadata": {},
   "outputs": [
    {
     "name": "stdout",
     "output_type": "stream",
     "text": [
      "loading... category : 4-4a\n",
      "loaded category:4-4a successfully\n",
      "loading... category : 5-4b\n",
      "loaded category:5-4b successfully\n",
      "loading... category : 6-4c\n",
      "loaded category:6-4c successfully\n"
     ]
    },
    {
     "data": {
      "text/html": [
       "<div>\n",
       "<style scoped>\n",
       "    .dataframe tbody tr th:only-of-type {\n",
       "        vertical-align: middle;\n",
       "    }\n",
       "\n",
       "    .dataframe tbody tr th {\n",
       "        vertical-align: top;\n",
       "    }\n",
       "\n",
       "    .dataframe thead th {\n",
       "        text-align: right;\n",
       "    }\n",
       "</style>\n",
       "<table border=\"1\" class=\"dataframe\">\n",
       "  <thead>\n",
       "    <tr style=\"text-align: right;\">\n",
       "      <th></th>\n",
       "      <th>0</th>\n",
       "      <th>1</th>\n",
       "      <th>2</th>\n",
       "      <th>3</th>\n",
       "      <th>4</th>\n",
       "      <th>5</th>\n",
       "      <th>6</th>\n",
       "      <th>7</th>\n",
       "      <th>8</th>\n",
       "      <th>9</th>\n",
       "      <th>10</th>\n",
       "      <th>11</th>\n",
       "      <th>12</th>\n",
       "      <th>Target</th>\n",
       "    </tr>\n",
       "  </thead>\n",
       "  <tbody>\n",
       "    <tr>\n",
       "      <th>0</th>\n",
       "      <td>0.001317</td>\n",
       "      <td>262.755565</td>\n",
       "      <td>0.718393</td>\n",
       "      <td>466.788577</td>\n",
       "      <td>0.153522</td>\n",
       "      <td>128.135957</td>\n",
       "      <td>1604.398743</td>\n",
       "      <td>7.269827</td>\n",
       "      <td>11.724108</td>\n",
       "      <td>0.000578</td>\n",
       "      <td>4.659052</td>\n",
       "      <td>-0.185744</td>\n",
       "      <td>0.869070</td>\n",
       "      <td>0</td>\n",
       "    </tr>\n",
       "    <tr>\n",
       "      <th>1</th>\n",
       "      <td>0.001677</td>\n",
       "      <td>333.743065</td>\n",
       "      <td>0.750962</td>\n",
       "      <td>671.835709</td>\n",
       "      <td>0.183362</td>\n",
       "      <td>118.686824</td>\n",
       "      <td>2353.599769</td>\n",
       "      <td>7.347760</td>\n",
       "      <td>11.710716</td>\n",
       "      <td>0.000412</td>\n",
       "      <td>4.777371</td>\n",
       "      <td>-0.212103</td>\n",
       "      <td>0.917067</td>\n",
       "      <td>0</td>\n",
       "    </tr>\n",
       "    <tr>\n",
       "      <th>2</th>\n",
       "      <td>0.000771</td>\n",
       "      <td>407.086779</td>\n",
       "      <td>0.846236</td>\n",
       "      <td>1323.320296</td>\n",
       "      <td>0.148471</td>\n",
       "      <td>185.654325</td>\n",
       "      <td>4886.194403</td>\n",
       "      <td>7.992184</td>\n",
       "      <td>12.506104</td>\n",
       "      <td>0.000406</td>\n",
       "      <td>4.902032</td>\n",
       "      <td>-0.250309</td>\n",
       "      <td>0.959365</td>\n",
       "      <td>0</td>\n",
       "    </tr>\n",
       "    <tr>\n",
       "      <th>3</th>\n",
       "      <td>0.000810</td>\n",
       "      <td>325.936161</td>\n",
       "      <td>0.888130</td>\n",
       "      <td>1457.126161</td>\n",
       "      <td>0.157681</td>\n",
       "      <td>192.780041</td>\n",
       "      <td>5502.568483</td>\n",
       "      <td>8.030024</td>\n",
       "      <td>12.391644</td>\n",
       "      <td>0.000419</td>\n",
       "      <td>4.761206</td>\n",
       "      <td>-0.268674</td>\n",
       "      <td>0.970287</td>\n",
       "      <td>0</td>\n",
       "    </tr>\n",
       "    <tr>\n",
       "      <th>4</th>\n",
       "      <td>0.000959</td>\n",
       "      <td>416.799680</td>\n",
       "      <td>0.737602</td>\n",
       "      <td>793.897981</td>\n",
       "      <td>0.140041</td>\n",
       "      <td>218.526368</td>\n",
       "      <td>2758.792245</td>\n",
       "      <td>7.667032</td>\n",
       "      <td>12.337473</td>\n",
       "      <td>0.000443</td>\n",
       "      <td>4.931857</td>\n",
       "      <td>-0.200106</td>\n",
       "      <td>0.900531</td>\n",
       "      <td>0</td>\n",
       "    </tr>\n",
       "    <tr>\n",
       "      <th>...</th>\n",
       "      <td>...</td>\n",
       "      <td>...</td>\n",
       "      <td>...</td>\n",
       "      <td>...</td>\n",
       "      <td>...</td>\n",
       "      <td>...</td>\n",
       "      <td>...</td>\n",
       "      <td>...</td>\n",
       "      <td>...</td>\n",
       "      <td>...</td>\n",
       "      <td>...</td>\n",
       "      <td>...</td>\n",
       "      <td>...</td>\n",
       "      <td>...</td>\n",
       "    </tr>\n",
       "    <tr>\n",
       "      <th>330</th>\n",
       "      <td>0.000948</td>\n",
       "      <td>263.963203</td>\n",
       "      <td>0.878170</td>\n",
       "      <td>1083.398436</td>\n",
       "      <td>0.158672</td>\n",
       "      <td>157.770300</td>\n",
       "      <td>4069.630541</td>\n",
       "      <td>7.819155</td>\n",
       "      <td>12.147076</td>\n",
       "      <td>0.000448</td>\n",
       "      <td>4.646734</td>\n",
       "      <td>-0.253069</td>\n",
       "      <td>0.959343</td>\n",
       "      <td>2</td>\n",
       "    </tr>\n",
       "    <tr>\n",
       "      <th>331</th>\n",
       "      <td>0.000853</td>\n",
       "      <td>445.482646</td>\n",
       "      <td>0.844464</td>\n",
       "      <td>1431.451560</td>\n",
       "      <td>0.139534</td>\n",
       "      <td>168.018885</td>\n",
       "      <td>5280.323596</td>\n",
       "      <td>7.940350</td>\n",
       "      <td>12.529336</td>\n",
       "      <td>0.000393</td>\n",
       "      <td>4.996057</td>\n",
       "      <td>-0.235562</td>\n",
       "      <td>0.952357</td>\n",
       "      <td>2</td>\n",
       "    </tr>\n",
       "    <tr>\n",
       "      <th>332</th>\n",
       "      <td>0.000840</td>\n",
       "      <td>349.050652</td>\n",
       "      <td>0.873011</td>\n",
       "      <td>1374.554724</td>\n",
       "      <td>0.150024</td>\n",
       "      <td>164.529878</td>\n",
       "      <td>5149.168244</td>\n",
       "      <td>7.971775</td>\n",
       "      <td>12.411376</td>\n",
       "      <td>0.000410</td>\n",
       "      <td>4.818975</td>\n",
       "      <td>-0.254589</td>\n",
       "      <td>0.963434</td>\n",
       "      <td>2</td>\n",
       "    </tr>\n",
       "    <tr>\n",
       "      <th>333</th>\n",
       "      <td>0.000847</td>\n",
       "      <td>307.145339</td>\n",
       "      <td>0.890946</td>\n",
       "      <td>1410.592201</td>\n",
       "      <td>0.160958</td>\n",
       "      <td>176.061314</td>\n",
       "      <td>5335.223467</td>\n",
       "      <td>8.001557</td>\n",
       "      <td>12.309074</td>\n",
       "      <td>0.000428</td>\n",
       "      <td>4.691495</td>\n",
       "      <td>-0.272767</td>\n",
       "      <td>0.969462</td>\n",
       "      <td>2</td>\n",
       "    </tr>\n",
       "    <tr>\n",
       "      <th>334</th>\n",
       "      <td>0.001078</td>\n",
       "      <td>384.087318</td>\n",
       "      <td>0.704995</td>\n",
       "      <td>656.833175</td>\n",
       "      <td>0.147894</td>\n",
       "      <td>179.615435</td>\n",
       "      <td>2243.245384</td>\n",
       "      <td>7.510347</td>\n",
       "      <td>12.077623</td>\n",
       "      <td>0.000411</td>\n",
       "      <td>4.823567</td>\n",
       "      <td>-0.198254</td>\n",
       "      <td>0.887855</td>\n",
       "      <td>2</td>\n",
       "    </tr>\n",
       "  </tbody>\n",
       "</table>\n",
       "<p>335 rows × 14 columns</p>\n",
       "</div>"
      ],
      "text/plain": [
       "            0           1         2            3         4           5  \\\n",
       "0    0.001317  262.755565  0.718393   466.788577  0.153522  128.135957   \n",
       "1    0.001677  333.743065  0.750962   671.835709  0.183362  118.686824   \n",
       "2    0.000771  407.086779  0.846236  1323.320296  0.148471  185.654325   \n",
       "3    0.000810  325.936161  0.888130  1457.126161  0.157681  192.780041   \n",
       "4    0.000959  416.799680  0.737602   793.897981  0.140041  218.526368   \n",
       "..        ...         ...       ...          ...       ...         ...   \n",
       "330  0.000948  263.963203  0.878170  1083.398436  0.158672  157.770300   \n",
       "331  0.000853  445.482646  0.844464  1431.451560  0.139534  168.018885   \n",
       "332  0.000840  349.050652  0.873011  1374.554724  0.150024  164.529878   \n",
       "333  0.000847  307.145339  0.890946  1410.592201  0.160958  176.061314   \n",
       "334  0.001078  384.087318  0.704995   656.833175  0.147894  179.615435   \n",
       "\n",
       "               6         7          8         9        10        11        12  \\\n",
       "0    1604.398743  7.269827  11.724108  0.000578  4.659052 -0.185744  0.869070   \n",
       "1    2353.599769  7.347760  11.710716  0.000412  4.777371 -0.212103  0.917067   \n",
       "2    4886.194403  7.992184  12.506104  0.000406  4.902032 -0.250309  0.959365   \n",
       "3    5502.568483  8.030024  12.391644  0.000419  4.761206 -0.268674  0.970287   \n",
       "4    2758.792245  7.667032  12.337473  0.000443  4.931857 -0.200106  0.900531   \n",
       "..           ...       ...        ...       ...       ...       ...       ...   \n",
       "330  4069.630541  7.819155  12.147076  0.000448  4.646734 -0.253069  0.959343   \n",
       "331  5280.323596  7.940350  12.529336  0.000393  4.996057 -0.235562  0.952357   \n",
       "332  5149.168244  7.971775  12.411376  0.000410  4.818975 -0.254589  0.963434   \n",
       "333  5335.223467  8.001557  12.309074  0.000428  4.691495 -0.272767  0.969462   \n",
       "334  2243.245384  7.510347  12.077623  0.000411  4.823567 -0.198254  0.887855   \n",
       "\n",
       "     Target  \n",
       "0         0  \n",
       "1         0  \n",
       "2         0  \n",
       "3         0  \n",
       "4         0  \n",
       "..      ...  \n",
       "330       2  \n",
       "331       2  \n",
       "332       2  \n",
       "333       2  \n",
       "334       2  \n",
       "\n",
       "[335 rows x 14 columns]"
      ]
     },
     "execution_count": 4,
     "metadata": {},
     "output_type": "execute_result"
    }
   ],
   "source": [
    "flat_data_arr=[]\n",
    "target_arr=[]\n",
    "#please use datadir='/content' if the files are upload on to google collab\n",
    "#else mount the drive and give path of the parent-folder containing all category images folders.\n",
    "datadir='..\\Datasets\\Colombiam\\\\svm\\\\thyroid-crop-small-background-square-160-tri\\\\'\n",
    "for i in Categories:\n",
    "  print(f'loading... category : {i}')\n",
    "  path=os.path.join(datadir,i)\n",
    "  for img in os.listdir(path):\n",
    "    img_array=imread(os.path.join(path,img))\n",
    "    #img_resized=resize(img_array,(150,150,3))\n",
    "    #flat_data_arr.append(img_array.flatten())\n",
    "    flat_data_arr.append(extract_features(img_array))\n",
    "    target_arr.append(Categories.index(i))\n",
    "  print(f'loaded category:{i} successfully')\n",
    "flat_data=np.array(flat_data_arr)\n",
    "target=np.array(target_arr)\n",
    "df=pd.DataFrame(flat_data)\n",
    "df['Target']=target\n",
    "df"
   ]
  },
  {
   "cell_type": "code",
   "execution_count": 5,
   "metadata": {},
   "outputs": [
    {
     "name": "stdout",
     "output_type": "stream",
     "text": [
      "Splitted Successfully\n"
     ]
    }
   ],
   "source": [
    "x=df.iloc[:,:-1]\n",
    "y=df.iloc[:,-1]\n",
    "x_train,x_test,y_train,y_test=train_test_split(x,y,test_size=0.30,random_state=77,stratify=y)\n",
    "print('Splitted Successfully')"
   ]
  },
  {
   "cell_type": "code",
   "execution_count": 6,
   "metadata": {},
   "outputs": [
    {
     "name": "stdout",
     "output_type": "stream",
     "text": [
      "The training of the model is started, please wait for while as it may take few minutes to complete\n"
     ]
    }
   ],
   "source": [
    "param_grid={'C':[0.1,1,10,100,1000,10000],'gamma':[0.0001,0.001,0.1,1],'kernel':['rbf']}\n",
    "#param_grid={'C':[0.1,1,10,100,1000,10000]}\n",
    "svc=svm.SVC(probability=True) # internally uses 5-fold cross-validation multiclass support is handled according to a one-vs-one scheme\n",
    "#svc=svm.LinearSVC() # multiclass support is handled according to a one-vs-the-rest scheme\n",
    "print(\"The training of the model is started, please wait for while as it may take few minutes to complete\")\n",
    "model=GridSearchCV(svc,param_grid)\n",
    "model.fit(x_train,y_train)\n",
    "print('The Model is trained well with the given images')\n",
    "model.best_params_"
   ]
  },
  {
   "cell_type": "code",
   "execution_count": null,
   "metadata": {},
   "outputs": [
    {
     "name": "stdout",
     "output_type": "stream",
     "text": [
      "The predicted Data is :\n"
     ]
    },
    {
     "data": {
      "text/plain": [
       "array([4, 5, 4, 5, 2, 3, 0, 5, 2, 4, 2, 4, 5, 5, 2, 0, 5, 3, 3, 2, 4, 2,\n",
       "       3, 3, 3, 2, 3, 4, 3, 2, 3, 4, 0, 2, 3, 2, 3, 5, 3, 4, 4, 4, 5, 2,\n",
       "       3, 4, 0, 2, 2, 2, 2, 4, 2, 4, 3, 3, 2, 4, 3, 5, 2, 3, 2, 2, 3, 3,\n",
       "       5, 2, 3, 3, 4, 5, 2, 0, 3, 2, 0, 4, 3, 3, 2, 3, 2, 5, 0, 2, 2, 3,\n",
       "       4, 3, 5, 3, 3, 5, 0, 2, 2, 5, 2, 0, 5, 5, 2, 2, 2, 3, 3, 2, 4, 4,\n",
       "       0, 3, 5, 3, 3, 0, 4, 0, 3, 2, 3, 0, 5, 2, 2, 3, 3, 2, 4, 4, 3, 0,\n",
       "       2, 0, 3, 3, 3, 2])"
      ]
     },
     "execution_count": 6,
     "metadata": {},
     "output_type": "execute_result"
    }
   ],
   "source": [
    "y_pred=model.predict(x_test)\n",
    "print(\"The predicted Data is :\")\n",
    "y_pred"
   ]
  },
  {
   "cell_type": "code",
   "execution_count": null,
   "metadata": {},
   "outputs": [
    {
     "name": "stdout",
     "output_type": "stream",
     "text": [
      "The actual data is:\n"
     ]
    },
    {
     "data": {
      "text/plain": [
       "array([4, 5, 4, 0, 2, 4, 2, 2, 1, 2, 2, 0, 3, 5, 2, 2, 5, 3, 1, 2, 0, 3,\n",
       "       2, 2, 4, 2, 2, 5, 0, 2, 2, 3, 0, 3, 5, 5, 2, 3, 5, 4, 3, 3, 3, 5,\n",
       "       4, 0, 3, 2, 4, 3, 0, 3, 3, 3, 2, 4, 0, 3, 0, 3, 2, 3, 5, 2, 2, 4,\n",
       "       2, 2, 2, 5, 2, 4, 3, 2, 0, 4, 2, 1, 4, 3, 2, 5, 4, 4, 2, 2, 1, 2,\n",
       "       5, 3, 2, 4, 4, 4, 4, 2, 0, 2, 4, 2, 3, 5, 4, 0, 5, 0, 3, 3, 0, 3,\n",
       "       2, 2, 5, 3, 3, 2, 4, 1, 4, 1, 4, 0, 5, 3, 3, 4, 2, 3, 3, 4, 4, 3,\n",
       "       2, 3, 4, 2, 3, 2])"
      ]
     },
     "execution_count": 7,
     "metadata": {},
     "output_type": "execute_result"
    }
   ],
   "source": [
    "print(\"The actual data is:\")\n",
    "np.array(y_test)"
   ]
  },
  {
   "cell_type": "code",
   "execution_count": null,
   "metadata": {},
   "outputs": [
    {
     "name": "stdout",
     "output_type": "stream",
     "text": [
      "The model is 26.08695652173913% accurate\n"
     ]
    },
    {
     "data": {
      "text/plain": [
       "array([[ 2,  1,  8,  3,  1,  0],\n",
       "       [ 0,  0,  0,  0,  0,  0],\n",
       "       [ 4,  3, 15,  9,  5,  4],\n",
       "       [ 4,  1, 12,  8, 13,  4],\n",
       "       [ 4,  1,  2,  8,  5,  2],\n",
       "       [ 1,  0,  4,  5,  3,  6]], dtype=int64)"
      ]
     },
     "execution_count": 8,
     "metadata": {},
     "output_type": "execute_result"
    }
   ],
   "source": [
    "#classification_report(y_pred,y_test)\n",
    "print(f\"The model is {accuracy_score(y_pred,y_test)*100}% accurate\")\n",
    "confusion_matrix(y_pred,y_test)"
   ]
  },
  {
   "cell_type": "code",
   "execution_count": 11,
   "metadata": {},
   "outputs": [
    {
     "name": "stdout",
     "output_type": "stream",
     "text": [
      "Pickle is dumped successfully\n"
     ]
    }
   ],
   "source": [
    "pickle.dump(model,open('img_model.p','wb'))\n",
    "print(\"Pickle is dumped successfully\")"
   ]
  }
 ],
 "metadata": {
  "interpreter": {
   "hash": "b3ba2566441a7c06988d0923437866b63cedc61552a5af99d1f4fb67d367b25f"
  },
  "kernelspec": {
   "display_name": "Python 3.8.8 ('base')",
   "language": "python",
   "name": "python3"
  },
  "language_info": {
   "codemirror_mode": {
    "name": "ipython",
    "version": 3
   },
   "file_extension": ".py",
   "mimetype": "text/x-python",
   "name": "python",
   "nbconvert_exporter": "python",
   "pygments_lexer": "ipython3",
   "version": "3.8.8"
  },
  "orig_nbformat": 4
 },
 "nbformat": 4,
 "nbformat_minor": 2
}
